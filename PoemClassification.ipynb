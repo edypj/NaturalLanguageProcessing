{
  "nbformat": 4,
  "nbformat_minor": 0,
  "metadata": {
    "colab": {
      "provenance": [],
      "authorship_tag": "ABX9TyPb8a1NGATzZmMqY5Kbbvd/",
      "include_colab_link": true
    },
    "kernelspec": {
      "name": "python3",
      "display_name": "Python 3"
    },
    "language_info": {
      "name": "python"
    }
  },
  "cells": [
    {
      "cell_type": "markdown",
      "metadata": {
        "id": "view-in-github",
        "colab_type": "text"
      },
      "source": [
        "<a href=\"https://colab.research.google.com/github/edypj/NaturalLanguageProcessing/blob/main/PoemClassification.ipynb\" target=\"_parent\"><img src=\"https://colab.research.google.com/assets/colab-badge.svg\" alt=\"Open In Colab\"/></a>"
      ]
    },
    {
      "cell_type": "code",
      "source": [
        "from google.colab import files\n",
        "import pandas as pd\n",
        "import matplotlib.pyplot as plt\n",
        "import re\n",
        "import nltk\n",
        "from nltk.tokenize import word_tokenize\n",
        "from sklearn.feature_extraction.text import CountVectorizer\n",
        "from sklearn.naive_bayes import MultinomialNB\n",
        "from sklearn.metrics import accuracy_score, classification_report\n",
        "from sklearn.model_selection import train_test_split\n",
        "\n",
        "from sklearn.feature_extraction.text import TfidfVectorizer\n",
        "from sklearn.svm import SVC\n",
        "from sklearn.metrics import accuracy_score, classification_report\n",
        "from sklearn.model_selection import GridSearchCV\n"
      ],
      "metadata": {
        "id": "tlc4KM9glL46"
      },
      "execution_count": 40,
      "outputs": []
    },
    {
      "cell_type": "code",
      "source": [
        "uploaded = files.upload()"
      ],
      "metadata": {
        "colab": {
          "base_uri": "https://localhost:8080/",
          "height": 108
        },
        "id": "lGQAvz4Jld-S",
        "outputId": "d68bc680-fe70-4070-fef1-90ebd91eeb7d"
      },
      "execution_count": 21,
      "outputs": [
        {
          "output_type": "display_data",
          "data": {
            "text/plain": [
              "<IPython.core.display.HTML object>"
            ],
            "text/html": [
              "\n",
              "     <input type=\"file\" id=\"files-061cdd1c-fed3-4d4c-9022-1057be86220e\" name=\"files[]\" multiple disabled\n",
              "        style=\"border:none\" />\n",
              "     <output id=\"result-061cdd1c-fed3-4d4c-9022-1057be86220e\">\n",
              "      Upload widget is only available when the cell has been executed in the\n",
              "      current browser session. Please rerun this cell to enable.\n",
              "      </output>\n",
              "      <script>// Copyright 2017 Google LLC\n",
              "//\n",
              "// Licensed under the Apache License, Version 2.0 (the \"License\");\n",
              "// you may not use this file except in compliance with the License.\n",
              "// You may obtain a copy of the License at\n",
              "//\n",
              "//      http://www.apache.org/licenses/LICENSE-2.0\n",
              "//\n",
              "// Unless required by applicable law or agreed to in writing, software\n",
              "// distributed under the License is distributed on an \"AS IS\" BASIS,\n",
              "// WITHOUT WARRANTIES OR CONDITIONS OF ANY KIND, either express or implied.\n",
              "// See the License for the specific language governing permissions and\n",
              "// limitations under the License.\n",
              "\n",
              "/**\n",
              " * @fileoverview Helpers for google.colab Python module.\n",
              " */\n",
              "(function(scope) {\n",
              "function span(text, styleAttributes = {}) {\n",
              "  const element = document.createElement('span');\n",
              "  element.textContent = text;\n",
              "  for (const key of Object.keys(styleAttributes)) {\n",
              "    element.style[key] = styleAttributes[key];\n",
              "  }\n",
              "  return element;\n",
              "}\n",
              "\n",
              "// Max number of bytes which will be uploaded at a time.\n",
              "const MAX_PAYLOAD_SIZE = 100 * 1024;\n",
              "\n",
              "function _uploadFiles(inputId, outputId) {\n",
              "  const steps = uploadFilesStep(inputId, outputId);\n",
              "  const outputElement = document.getElementById(outputId);\n",
              "  // Cache steps on the outputElement to make it available for the next call\n",
              "  // to uploadFilesContinue from Python.\n",
              "  outputElement.steps = steps;\n",
              "\n",
              "  return _uploadFilesContinue(outputId);\n",
              "}\n",
              "\n",
              "// This is roughly an async generator (not supported in the browser yet),\n",
              "// where there are multiple asynchronous steps and the Python side is going\n",
              "// to poll for completion of each step.\n",
              "// This uses a Promise to block the python side on completion of each step,\n",
              "// then passes the result of the previous step as the input to the next step.\n",
              "function _uploadFilesContinue(outputId) {\n",
              "  const outputElement = document.getElementById(outputId);\n",
              "  const steps = outputElement.steps;\n",
              "\n",
              "  const next = steps.next(outputElement.lastPromiseValue);\n",
              "  return Promise.resolve(next.value.promise).then((value) => {\n",
              "    // Cache the last promise value to make it available to the next\n",
              "    // step of the generator.\n",
              "    outputElement.lastPromiseValue = value;\n",
              "    return next.value.response;\n",
              "  });\n",
              "}\n",
              "\n",
              "/**\n",
              " * Generator function which is called between each async step of the upload\n",
              " * process.\n",
              " * @param {string} inputId Element ID of the input file picker element.\n",
              " * @param {string} outputId Element ID of the output display.\n",
              " * @return {!Iterable<!Object>} Iterable of next steps.\n",
              " */\n",
              "function* uploadFilesStep(inputId, outputId) {\n",
              "  const inputElement = document.getElementById(inputId);\n",
              "  inputElement.disabled = false;\n",
              "\n",
              "  const outputElement = document.getElementById(outputId);\n",
              "  outputElement.innerHTML = '';\n",
              "\n",
              "  const pickedPromise = new Promise((resolve) => {\n",
              "    inputElement.addEventListener('change', (e) => {\n",
              "      resolve(e.target.files);\n",
              "    });\n",
              "  });\n",
              "\n",
              "  const cancel = document.createElement('button');\n",
              "  inputElement.parentElement.appendChild(cancel);\n",
              "  cancel.textContent = 'Cancel upload';\n",
              "  const cancelPromise = new Promise((resolve) => {\n",
              "    cancel.onclick = () => {\n",
              "      resolve(null);\n",
              "    };\n",
              "  });\n",
              "\n",
              "  // Wait for the user to pick the files.\n",
              "  const files = yield {\n",
              "    promise: Promise.race([pickedPromise, cancelPromise]),\n",
              "    response: {\n",
              "      action: 'starting',\n",
              "    }\n",
              "  };\n",
              "\n",
              "  cancel.remove();\n",
              "\n",
              "  // Disable the input element since further picks are not allowed.\n",
              "  inputElement.disabled = true;\n",
              "\n",
              "  if (!files) {\n",
              "    return {\n",
              "      response: {\n",
              "        action: 'complete',\n",
              "      }\n",
              "    };\n",
              "  }\n",
              "\n",
              "  for (const file of files) {\n",
              "    const li = document.createElement('li');\n",
              "    li.append(span(file.name, {fontWeight: 'bold'}));\n",
              "    li.append(span(\n",
              "        `(${file.type || 'n/a'}) - ${file.size} bytes, ` +\n",
              "        `last modified: ${\n",
              "            file.lastModifiedDate ? file.lastModifiedDate.toLocaleDateString() :\n",
              "                                    'n/a'} - `));\n",
              "    const percent = span('0% done');\n",
              "    li.appendChild(percent);\n",
              "\n",
              "    outputElement.appendChild(li);\n",
              "\n",
              "    const fileDataPromise = new Promise((resolve) => {\n",
              "      const reader = new FileReader();\n",
              "      reader.onload = (e) => {\n",
              "        resolve(e.target.result);\n",
              "      };\n",
              "      reader.readAsArrayBuffer(file);\n",
              "    });\n",
              "    // Wait for the data to be ready.\n",
              "    let fileData = yield {\n",
              "      promise: fileDataPromise,\n",
              "      response: {\n",
              "        action: 'continue',\n",
              "      }\n",
              "    };\n",
              "\n",
              "    // Use a chunked sending to avoid message size limits. See b/62115660.\n",
              "    let position = 0;\n",
              "    do {\n",
              "      const length = Math.min(fileData.byteLength - position, MAX_PAYLOAD_SIZE);\n",
              "      const chunk = new Uint8Array(fileData, position, length);\n",
              "      position += length;\n",
              "\n",
              "      const base64 = btoa(String.fromCharCode.apply(null, chunk));\n",
              "      yield {\n",
              "        response: {\n",
              "          action: 'append',\n",
              "          file: file.name,\n",
              "          data: base64,\n",
              "        },\n",
              "      };\n",
              "\n",
              "      let percentDone = fileData.byteLength === 0 ?\n",
              "          100 :\n",
              "          Math.round((position / fileData.byteLength) * 100);\n",
              "      percent.textContent = `${percentDone}% done`;\n",
              "\n",
              "    } while (position < fileData.byteLength);\n",
              "  }\n",
              "\n",
              "  // All done.\n",
              "  yield {\n",
              "    response: {\n",
              "      action: 'complete',\n",
              "    }\n",
              "  };\n",
              "}\n",
              "\n",
              "scope.google = scope.google || {};\n",
              "scope.google.colab = scope.google.colab || {};\n",
              "scope.google.colab._files = {\n",
              "  _uploadFiles,\n",
              "  _uploadFilesContinue,\n",
              "};\n",
              "})(self);\n",
              "</script> "
            ]
          },
          "metadata": {}
        },
        {
          "output_type": "stream",
          "name": "stdout",
          "text": [
            "Saving Poem_classification - test_data.csv to Poem_classification - test_data.csv\n",
            "Saving Poem_classification - train_data.csv to Poem_classification - train_data.csv\n"
          ]
        }
      ]
    },
    {
      "cell_type": "code",
      "source": [
        "for filename in uploaded.keys():\n",
        "    with open(filename, 'wb') as f:\n",
        "        f.write(uploaded[filename])\n",
        "\n",
        "print('File berhasil diunggah dan disimpan!')"
      ],
      "metadata": {
        "colab": {
          "base_uri": "https://localhost:8080/"
        },
        "id": "Bd0pM6Eplsdn",
        "outputId": "be0bfd02-491a-4fb7-e732-3a9600e36240"
      },
      "execution_count": 22,
      "outputs": [
        {
          "output_type": "stream",
          "name": "stdout",
          "text": [
            "File berhasil diunggah dan disimpan!\n"
          ]
        }
      ]
    },
    {
      "cell_type": "code",
      "source": [
        "# Membaca file train_data.csv\n",
        "train_data = pd.read_csv(\"Poem_classification - train_data.csv\")\n",
        "\n",
        "# Menampilkan 5 data pertama dari train_data.csv\n",
        "print(\"Isi dari train_data.csv:\")\n",
        "print(train_data.head(5))\n",
        "\n",
        "# Membaca file test_data.csv\n",
        "test_data = pd.read_csv(\"Poem_classification - test_data.csv\")\n",
        "\n",
        "# Menampilkan 5 data pertama dari test_data.csv\n",
        "print(\"\\nIsi dari test_data.csv:\")\n",
        "print(test_data.head(5))\n"
      ],
      "metadata": {
        "colab": {
          "base_uri": "https://localhost:8080/"
        },
        "id": "jSRNZziDmG0r",
        "outputId": "28bbc4da-a70f-4622-fbd9-a022f5bd207d"
      },
      "execution_count": 24,
      "outputs": [
        {
          "output_type": "stream",
          "name": "stdout",
          "text": [
            "Isi dari train_data.csv:\n",
            "   Genre                                               Poem\n",
            "0  Music                                                NaN\n",
            "1  Music                In the thick brushthey spend the...\n",
            "2  Music     Storms are generous.                       ...\n",
            "3  Music   —After Ana Mendieta Did you carry around the ...\n",
            "4  Music   for Aja Sherrard at 20The portent may itself ...\n",
            "\n",
            "Isi dari test_data.csv:\n",
            "   Genre                                               Poem\n",
            "0  Music  A woman walks by the bench I’m sitting onwith ...\n",
            "1  Music  Because I am a boy, the untouchability of beau...\n",
            "2  Music  Because today we did not leave this world,We n...\n",
            "3  Music  Big Bend has been here, been here. Shouldn’t i...\n",
            "4  Music  I put shells there, along the lip of the road....\n"
          ]
        }
      ]
    },
    {
      "cell_type": "code",
      "source": [
        "# Membaca file train_data.csv\n",
        "train_data = pd.read_csv(\"Poem_classification - train_data.csv\")\n",
        "\n",
        "# Menghitung jumlah data untuk setiap genre\n",
        "genre_counts = train_data['Genre'].value_counts()\n",
        "\n",
        "# Plotting pie chart\n",
        "plt.figure(figsize=(8, 8))\n",
        "plt.pie(genre_counts, labels=genre_counts.index, autopct='%1.1f%%', startangle=140)\n",
        "plt.title('Pie Chart Genre')\n",
        "plt.axis('equal')\n",
        "plt.show()"
      ],
      "metadata": {
        "colab": {
          "base_uri": "https://localhost:8080/",
          "height": 675
        },
        "id": "n3Zy9D6Omhbr",
        "outputId": "da03e409-9e53-4786-c589-68ec86c3f8aa"
      },
      "execution_count": 26,
      "outputs": [
        {
          "output_type": "display_data",
          "data": {
            "text/plain": [
              "<Figure size 800x800 with 1 Axes>"
            ],
            "image/png": "[encoded data removed]"
          },
          "metadata": {}
        }
      ]
    },
    {
      "cell_type": "code",
      "source": [
        "# Membaca file test_data.csv\n",
        "test_data = pd.read_csv(\"Poem_classification - test_data.csv\")\n",
        "\n",
        "# Menghitung jumlah data untuk setiap genre di data test\n",
        "test_genre_counts = test_data['Genre'].value_counts()\n",
        "\n",
        "# Plotting pie chart untuk data test\n",
        "plt.figure(figsize=(8, 8))\n",
        "plt.pie(test_genre_counts, labels=test_genre_counts.index, autopct='%1.1f%%', startangle=140)\n",
        "plt.title('Pie Chart Genre (Test Data)')\n",
        "plt.axis('equal')\n",
        "plt.show()"
      ],
      "metadata": {
        "colab": {
          "base_uri": "https://localhost:8080/",
          "height": 679
        },
        "id": "XWCFRENdmvl3",
        "outputId": "ffd5d402-61a7-4094-f23a-449bef34d999"
      },
      "execution_count": 27,
      "outputs": [
        {
          "output_type": "display_data",
          "data": {
            "text/plain": [
              "<Figure size 800x800 with 1 Axes>"
            ],
            "image/png": "[encoded data removed]"
          },
          "metadata": {}
        }
      ]
    },
    {
      "cell_type": "code",
      "source": [
        "import pandas as pd\n",
        "\n",
        "# Membaca file train_data.csv\n",
        "train_data = pd.read_csv(\"Poem_classification - train_data.csv\")\n",
        "\n",
        "# Menampilkan informasi tipe data dari train_data.csv\n",
        "print(\"Info dari train_data.csv:\")\n",
        "print(train_data.info())\n",
        "\n",
        "# Membaca file test_data.csv\n",
        "test_data = pd.read_csv(\"Poem_classification - test_data.csv\")\n",
        "\n",
        "# Menampilkan informasi tipe data dari test_data.csv\n",
        "print(\"\\nInfo dari test_data.csv:\")\n",
        "print(test_data.info())"
      ],
      "metadata": {
        "colab": {
          "base_uri": "https://localhost:8080/"
        },
        "id": "mu1GfW-HqRTT",
        "outputId": "5b27372a-5456-4436-8ff8-ed54c9c3753a"
      },
      "execution_count": 28,
      "outputs": [
        {
          "output_type": "stream",
          "name": "stdout",
          "text": [
            "Info dari train_data.csv:\n",
            "<class 'pandas.core.frame.DataFrame'>\n",
            "RangeIndex: 841 entries, 0 to 840\n",
            "Data columns (total 2 columns):\n",
            " #   Column  Non-Null Count  Dtype \n",
            "---  ------  --------------  ----- \n",
            " 0   Genre   841 non-null    object\n",
            " 1   Poem    837 non-null    object\n",
            "dtypes: object(2)\n",
            "memory usage: 13.3+ KB\n",
            "None\n",
            "\n",
            "Info dari test_data.csv:\n",
            "<class 'pandas.core.frame.DataFrame'>\n",
            "RangeIndex: 150 entries, 0 to 149\n",
            "Data columns (total 2 columns):\n",
            " #   Column  Non-Null Count  Dtype \n",
            "---  ------  --------------  ----- \n",
            " 0   Genre   150 non-null    object\n",
            " 1   Poem    150 non-null    object\n",
            "dtypes: object(2)\n",
            "memory usage: 2.5+ KB\n",
            "None\n"
          ]
        }
      ]
    },
    {
      "cell_type": "code",
      "source": [
        "def clean_text(text):\n",
        "    if isinstance(text, str):  # Memastikan nilai text adalah string\n",
        "        # Mengubah teks menjadi huruf kecil\n",
        "        text = text.lower()\n",
        "        # Menghapus karakter khusus, angka, dan tanda baca menggunakan ekspresi reguler\n",
        "        text = re.sub(r'[^a-z\\s]', '', text)\n",
        "    return text\n",
        "\n",
        "# Membersihkan teks pada train_data.csv\n",
        "train_data = pd.read_csv(\"Poem_classification - train_data.csv\")\n",
        "train_data['Poem'] = train_data['Poem'].apply(clean_text)\n",
        "\n",
        "# Menampilkan beberapa baris pertama dari train_data setelah pembersihan teks\n",
        "print(\"Train Data setelah membersihkan teks:\")\n",
        "print(train_data.head())\n",
        "\n",
        "# Membersihkan teks pada test_data.csv\n",
        "test_data = pd.read_csv(\"Poem_classification - test_data.csv\")\n",
        "test_data['Poem'] = test_data['Poem'].apply(clean_text)\n",
        "\n",
        "# Menampilkan beberapa baris pertama dari test_data setelah pembersihan teks\n",
        "print(\"\\nTest Data setelah membersihkan teks:\")\n",
        "print(test_data.head())"
      ],
      "metadata": {
        "colab": {
          "base_uri": "https://localhost:8080/"
        },
        "id": "2CXAdutwql8N",
        "outputId": "40b274ff-9b5d-40c7-c60f-e7992eac453c"
      },
      "execution_count": 31,
      "outputs": [
        {
          "output_type": "stream",
          "name": "stdout",
          "text": [
            "Train Data setelah membersihkan teks:\n",
            "   Genre                                               Poem\n",
            "0  Music                                                NaN\n",
            "1  Music                in the thick brushthey spend the...\n",
            "2  Music     storms are generous                        ...\n",
            "3  Music   after ana mendieta did you carry around the m...\n",
            "4  Music   for aja sherrard at the portent may itself be...\n",
            "\n",
            "Test Data setelah membersihkan teks:\n",
            "   Genre                                               Poem\n",
            "0  Music  a woman walks by the bench im sitting onwith h...\n",
            "1  Music  because i am a boy the untouchability of beaut...\n",
            "2  Music  because today we did not leave this worldwe no...\n",
            "3  Music  big bend has been here been here shouldnt it h...\n",
            "4  Music  i put shells there along the lip of the roadbi...\n"
          ]
        }
      ]
    },
    {
      "cell_type": "code",
      "source": [
        "# Menghapus baris dengan nilai NaN di kolom 'Poem' pada train_data\n",
        "train_data.dropna(subset=['Poem'], inplace=True)\n",
        "\n",
        "# Menghapus baris dengan nilai NaN di kolom 'Poem' pada test_data\n",
        "test_data.dropna(subset=['Poem'], inplace=True)\n"
      ],
      "metadata": {
        "id": "QoJRTv45rZXk"
      },
      "execution_count": 32,
      "outputs": []
    },
    {
      "cell_type": "code",
      "source": [
        "# Download data yang diperlukan oleh NLTK jika belum ada\n",
        "nltk.download('punkt')\n",
        "\n",
        "# Tokenisasi teks menggunakan NLTK\n",
        "train_data['Poem'] = train_data['Poem'].apply(lambda x: word_tokenize(str(x)))\n",
        "test_data['Poem'] = test_data['Poem'].apply(lambda x: word_tokenize(str(x)))\n",
        "\n",
        "# Menampilkan beberapa baris pertama dari train_data setelah tokenisasi\n",
        "print(\"Train Data setelah tokenisasi:\")\n",
        "print(train_data.head())\n",
        "\n",
        "# Menampilkan beberapa baris pertama dari test_data setelah tokenisasi\n",
        "print(\"\\nTest Data setelah tokenisasi:\")\n",
        "print(test_data.head())"
      ],
      "metadata": {
        "colab": {
          "base_uri": "https://localhost:8080/"
        },
        "id": "MXjSbiO3rbX7",
        "outputId": "02b970de-ce42-4f22-eedd-dee953602892"
      },
      "execution_count": 34,
      "outputs": [
        {
          "output_type": "stream",
          "name": "stderr",
          "text": [
            "[nltk_data] Downloading package punkt to /root/nltk_data...\n",
            "[nltk_data]   Unzipping tokenizers/punkt.zip.\n"
          ]
        },
        {
          "output_type": "stream",
          "name": "stdout",
          "text": [
            "Train Data setelah tokenisasi:\n",
            "   Genre                                               Poem\n",
            "1  Music  [in, the, thick, brushthey, spend, the, hottes...\n",
            "2  Music  [storms, are, generous, something, so, easy, t...\n",
            "3  Music  [after, ana, mendieta, did, you, carry, around...\n",
            "4  Music  [for, aja, sherrard, at, the, portent, may, it...\n",
            "5  Music  [for, bob, marley, bavaria, november, here, is...\n",
            "\n",
            "Test Data setelah tokenisasi:\n",
            "   Genre                                               Poem\n",
            "0  Music  [a, woman, walks, by, the, bench, im, sitting,...\n",
            "1  Music  [because, i, am, a, boy, the, untouchability, ...\n",
            "2  Music  [because, today, we, did, not, leave, this, wo...\n",
            "3  Music  [big, bend, has, been, here, been, here, shoul...\n",
            "4  Music  [i, put, shells, there, along, the, lip, of, t...\n"
          ]
        }
      ]
    },
    {
      "cell_type": "code",
      "source": [
        "# Pengkodean fitur\n",
        "vectorizer = CountVectorizer()\n",
        "X_train = vectorizer.fit_transform(train_data['Poem'].apply(lambda x: ' '.join(x)))\n",
        "y_train = train_data['Genre']\n",
        "\n",
        "# Pembagian data menjadi set pelatihan dan set pengujian\n",
        "X_train_split, X_val_split, y_train_split, y_val_split = train_test_split(X_train, y_train, test_size=0.2, random_state=42)\n",
        "\n",
        "# Pembuatan dan pelatihan model\n",
        "clf = MultinomialNB()\n",
        "clf.fit(X_train_split, y_train_split)\n",
        "\n",
        "# Prediksi untuk set pengujian\n",
        "y_pred = clf.predict(X_val_split)\n",
        "\n",
        "# Evaluasi model\n",
        "accuracy = accuracy_score(y_val_split, y_pred)\n",
        "print(\"Accuracy:\", accuracy)\n",
        "print(\"\\nClassification Report:\")\n",
        "print(classification_report(y_val_split, y_pred))"
      ],
      "metadata": {
        "colab": {
          "base_uri": "https://localhost:8080/"
        },
        "id": "zP0xLq5DsUXj",
        "outputId": "fe90f003-530d-4a8a-d083-0c7bb77e4894"
      },
      "execution_count": 36,
      "outputs": [
        {
          "output_type": "stream",
          "name": "stdout",
          "text": [
            "Accuracy: 0.4166666666666667\n",
            "\n",
            "Classification Report:\n",
            "              precision    recall  f1-score   support\n",
            "\n",
            "   Affection       0.25      0.18      0.21        22\n",
            "       Death       0.33      0.51      0.40        45\n",
            " Environment       0.74      0.46      0.57        54\n",
            "       Music       0.37      0.38      0.37        47\n",
            "\n",
            "    accuracy                           0.42       168\n",
            "   macro avg       0.42      0.38      0.39       168\n",
            "weighted avg       0.46      0.42      0.42       168\n",
            "\n"
          ]
        }
      ]
    },
    {
      "cell_type": "code",
      "source": [
        "# 1. Pengkodean Fitur (TF-IDF)\n",
        "tfidf_vectorizer = TfidfVectorizer()\n",
        "X_train_tfidf = tfidf_vectorizer.fit_transform(train_data['Poem'].apply(lambda x: ' '.join(x)))\n",
        "X_test_tfidf = tfidf_vectorizer.transform(test_data['Poem'].apply(lambda x: ' '.join(x)))\n",
        "\n",
        "# 2. Pembagian Data\n",
        "X_train_split, X_val_split, y_train_split, y_val_split = train_test_split(X_train_tfidf, train_data['Genre'], test_size=0.2, random_state=42)\n",
        "\n",
        "# 3. Pelatihan Model SVM\n",
        "svm_model = SVC(kernel='linear')\n",
        "svm_model.fit(X_train_split, y_train_split)"
      ],
      "metadata": {
        "colab": {
          "base_uri": "https://localhost:8080/",
          "height": 74
        },
        "id": "g4R7TL3ItHip",
        "outputId": "33301f07-91c6-41c3-be80-ff9a0866e1f2"
      },
      "execution_count": 41,
      "outputs": [
        {
          "output_type": "execute_result",
          "data": {
            "text/plain": [
              "SVC(kernel='linear')"
            ],
            "text/html": [
              "<style>#sk-container-id-1 {color: black;background-color: white;}#sk-container-id-1 pre{padding: 0;}#sk-container-id-1 div.sk-toggleable {background-color: white;}#sk-container-id-1 label.sk-toggleable__label {cursor: pointer;display: block;width: 100%;margin-bottom: 0;padding: 0.3em;box-sizing: border-box;text-align: center;}#sk-container-id-1 label.sk-toggleable__label-arrow:before {content: \"▸\";float: left;margin-right: 0.25em;color: #696969;}#sk-container-id-1 label.sk-toggleable__label-arrow:hover:before {color: black;}#sk-container-id-1 div.sk-estimator:hover label.sk-toggleable__label-arrow:before {color: black;}#sk-container-id-1 div.sk-toggleable__content {max-height: 0;max-width: 0;overflow: hidden;text-align: left;background-color: #f0f8ff;}#sk-container-id-1 div.sk-toggleable__content pre {margin: 0.2em;color: black;border-radius: 0.25em;background-color: #f0f8ff;}#sk-container-id-1 input.sk-toggleable__control:checked~div.sk-toggleable__content {max-height: 200px;max-width: 100%;overflow: auto;}#sk-container-id-1 input.sk-toggleable__control:checked~label.sk-toggleable__label-arrow:before {content: \"▾\";}#sk-container-id-1 div.sk-estimator input.sk-toggleable__control:checked~label.sk-toggleable__label {background-color: #d4ebff;}#sk-container-id-1 div.sk-label input.sk-toggleable__control:checked~label.sk-toggleable__label {background-color: #d4ebff;}#sk-container-id-1 input.sk-hidden--visually {border: 0;clip: rect(1px 1px 1px 1px);clip: rect(1px, 1px, 1px, 1px);height: 1px;margin: -1px;overflow: hidden;padding: 0;position: absolute;width: 1px;}#sk-container-id-1 div.sk-estimator {font-family: monospace;background-color: #f0f8ff;border: 1px dotted black;border-radius: 0.25em;box-sizing: border-box;margin-bottom: 0.5em;}#sk-container-id-1 div.sk-estimator:hover {background-color: #d4ebff;}#sk-container-id-1 div.sk-parallel-item::after {content: \"\";width: 100%;border-bottom: 1px solid gray;flex-grow: 1;}#sk-container-id-1 div.sk-label:hover label.sk-toggleable__label {background-color: #d4ebff;}#sk-container-id-1 div.sk-serial::before {content: \"\";position: absolute;border-left: 1px solid gray;box-sizing: border-box;top: 0;bottom: 0;left: 50%;z-index: 0;}#sk-container-id-1 div.sk-serial {display: flex;flex-direction: column;align-items: center;background-color: white;padding-right: 0.2em;padding-left: 0.2em;position: relative;}#sk-container-id-1 div.sk-item {position: relative;z-index: 1;}#sk-container-id-1 div.sk-parallel {display: flex;align-items: stretch;justify-content: center;background-color: white;position: relative;}#sk-container-id-1 div.sk-item::before, #sk-container-id-1 div.sk-parallel-item::before {content: \"\";position: absolute;border-left: 1px solid gray;box-sizing: border-box;top: 0;bottom: 0;left: 50%;z-index: -1;}#sk-container-id-1 div.sk-parallel-item {display: flex;flex-direction: column;z-index: 1;position: relative;background-color: white;}#sk-container-id-1 div.sk-parallel-item:first-child::after {align-self: flex-end;width: 50%;}#sk-container-id-1 div.sk-parallel-item:last-child::after {align-self: flex-start;width: 50%;}#sk-container-id-1 div.sk-parallel-item:only-child::after {width: 0;}#sk-container-id-1 div.sk-dashed-wrapped {border: 1px dashed gray;margin: 0 0.4em 0.5em 0.4em;box-sizing: border-box;padding-bottom: 0.4em;background-color: white;}#sk-container-id-1 div.sk-label label {font-family: monospace;font-weight: bold;display: inline-block;line-height: 1.2em;}#sk-container-id-1 div.sk-label-container {text-align: center;}#sk-container-id-1 div.sk-container {/* jupyter's `normalize.less` sets `[hidden] { display: none; }` but bootstrap.min.css set `[hidden] { display: none !important; }` so we also need the `!important` here to be able to override the default hidden behavior on the sphinx rendered scikit-learn.org. See: https://github.com/scikit-learn/scikit-learn/issues/21755 */display: inline-block !important;position: relative;}#sk-container-id-1 div.sk-text-repr-fallback {display: none;}</style><div id=\"sk-container-id-1\" class=\"sk-top-container\"><div class=\"sk-text-repr-fallback\"><pre>SVC(kernel=&#x27;linear&#x27;)</pre><b>In a Jupyter environment, please rerun this cell to show the HTML representation or trust the notebook. <br />On GitHub, the HTML representation is unable to render, please try loading this page with nbviewer.org.</b></div><div class=\"sk-container\" hidden><div class=\"sk-item\"><div class=\"sk-estimator sk-toggleable\"><input class=\"sk-toggleable__control sk-hidden--visually\" id=\"sk-estimator-id-1\" type=\"checkbox\" checked><label for=\"sk-estimator-id-1\" class=\"sk-toggleable__label sk-toggleable__label-arrow\">SVC</label><div class=\"sk-toggleable__content\"><pre>SVC(kernel=&#x27;linear&#x27;)</pre></div></div></div></div></div>"
            ]
          },
          "metadata": {},
          "execution_count": 41
        }
      ]
    },
    {
      "cell_type": "code",
      "source": [
        "y_pred = svm_model.predict(X_val_split)\n",
        "accuracy = accuracy_score(y_val_split, y_pred)\n",
        "print(\"Accuracy:\", accuracy)\n",
        "print(\"\\nClassification Report:\")\n",
        "print(classification_report(y_val_split, y_pred))\n",
        "\n",
        "# Evaluasi pada data uji\n",
        "y_pred_test = svm_model.predict(X_test_tfidf)\n",
        "accuracy_test = accuracy_score(test_data['Genre'], y_pred_test)\n",
        "print(\"\\nAccuracy on Test Data:\", accuracy_test)\n",
        "print(\"\\nClassification Report on Test Data:\")\n",
        "print(classification_report(test_data['Genre'], y_pred_test))"
      ],
      "metadata": {
        "colab": {
          "base_uri": "https://localhost:8080/"
        },
        "id": "q0ZCBZbNtosf",
        "outputId": "bcd241e5-fc3d-43e0-f543-13c7b9177944"
      },
      "execution_count": 46,
      "outputs": [
        {
          "output_type": "stream",
          "name": "stdout",
          "text": [
            "Accuracy: 0.4226190476190476\n",
            "\n",
            "Classification Report:\n",
            "              precision    recall  f1-score   support\n",
            "\n",
            "   Affection       0.29      0.18      0.22        22\n",
            "       Death       0.33      0.36      0.34        45\n",
            " Environment       0.58      0.56      0.57        54\n",
            "       Music       0.40      0.45      0.42        47\n",
            "\n",
            "    accuracy                           0.42       168\n",
            "   macro avg       0.40      0.38      0.39       168\n",
            "weighted avg       0.42      0.42      0.42       168\n",
            "\n",
            "\n",
            "Accuracy on Test Data: 0.28\n",
            "\n",
            "Classification Report on Test Data:\n",
            "              precision    recall  f1-score   support\n",
            "\n",
            "   Affection       0.88      0.23      0.37       100\n",
            "       Death       0.08      0.23      0.12        13\n",
            " Environment       0.22      0.32      0.26        25\n",
            "       Music       0.17      0.67      0.27        12\n",
            "\n",
            "    accuracy                           0.28       150\n",
            "   macro avg       0.34      0.36      0.25       150\n",
            "weighted avg       0.65      0.28      0.32       150\n",
            "\n"
          ]
        }
      ]
    },
    {
      "cell_type": "code",
      "source": [
        "# 3. Pelatihan Model SVM dengan Parameter Terbaik\n",
        "best_svm_model = SVC(kernel='linear', C=4, gamma=0.1)\n",
        "best_svm_model.fit(X_train_split, y_train_split)\n",
        "\n",
        "# 5. Evaluasi Model dengan Parameter Terbaik\n",
        "y_pred_best = best_svm_model.predict(X_val_split)\n",
        "accuracy_best = accuracy_score(y_val_split, y_pred_best)\n",
        "print(\"Accuracy with Best Parameters:\", accuracy_best)\n",
        "print(\"\\nClassification Report with Best Parameters:\")\n",
        "print(classification_report(y_val_split, y_pred_best))\n",
        "\n",
        "# Evaluasi pada data uji dengan parameter terbaik\n",
        "y_pred_test_best = best_svm_model.predict(X_test_tfidf)\n",
        "accuracy_test_best = accuracy_score(test_data['Genre'], y_pred_test_best)\n",
        "print(\"\\nAccuracy on Test Data with Best Parameters:\", accuracy_test_best)\n",
        "print(\"\\nClassification Report on Test Data with Best Parameters:\")\n",
        "print(classification_report(test_data['Genre'], y_pred_test_best))"
      ],
      "metadata": {
        "colab": {
          "base_uri": "https://localhost:8080/"
        },
        "id": "ssEErq5Kt3HL",
        "outputId": "57797b91-53ce-4c3c-8593-3a7bc956c31b"
      },
      "execution_count": 49,
      "outputs": [
        {
          "output_type": "stream",
          "name": "stdout",
          "text": [
            "Accuracy with Best Parameters: 0.40476190476190477\n",
            "\n",
            "Classification Report with Best Parameters:\n",
            "              precision    recall  f1-score   support\n",
            "\n",
            "   Affection       0.21      0.23      0.22        22\n",
            "       Death       0.32      0.33      0.33        45\n",
            " Environment       0.55      0.54      0.54        54\n",
            "       Music       0.43      0.40      0.42        47\n",
            "\n",
            "    accuracy                           0.40       168\n",
            "   macro avg       0.38      0.38      0.38       168\n",
            "weighted avg       0.41      0.40      0.41       168\n",
            "\n",
            "\n",
            "Accuracy on Test Data with Best Parameters: 0.31333333333333335\n",
            "\n",
            "Classification Report on Test Data with Best Parameters:\n",
            "              precision    recall  f1-score   support\n",
            "\n",
            "   Affection       0.87      0.27      0.41       100\n",
            "       Death       0.10      0.31      0.15        13\n",
            " Environment       0.26      0.36      0.31        25\n",
            "       Music       0.16      0.58      0.25        12\n",
            "\n",
            "    accuracy                           0.31       150\n",
            "   macro avg       0.35      0.38      0.28       150\n",
            "weighted avg       0.65      0.31      0.36       150\n",
            "\n"
          ]
        }
      ]
    },
    {
      "cell_type": "code",
      "source": [
        "def predict_genre(poem_text):\n",
        "    # Lakukan preprocessing pada teks puisi\n",
        "    cleaned_text = clean_text(poem_text)\n",
        "    tokenized_text = word_tokenize(cleaned_text)\n",
        "    text_vectorized = tfidf_vectorizer.transform([' '.join(tokenized_text)])\n",
        "\n",
        "    # Lakukan prediksi klasifikasi\n",
        "    genre_pred = best_svm_model.predict(text_vectorized)\n",
        "\n",
        "    return genre_pred[0]\n",
        "\n",
        "# Contoh penggunaan\n",
        "poem_example = \"I wandered lonely as a cloud That floats on high o'er vales and hills, When all at once I saw a crowd, A host, of golden daffodils; Beside the lake, beneath the trees, Fluttering and dancing in the breeze.\"\n",
        "predicted_genre = predict_genre(poem_example)\n",
        "print(\"Predicted Genre:\", predicted_genre)"
      ],
      "metadata": {
        "colab": {
          "base_uri": "https://localhost:8080/"
        },
        "id": "w3-M02PLu1gU",
        "outputId": "a93440f1-311d-4848-81b5-13c42bd9a793"
      },
      "execution_count": 51,
      "outputs": [
        {
          "output_type": "stream",
          "name": "stdout",
          "text": [
            "Predicted Genre: Environment\n"
          ]
        }
      ]
    }
  ]
}